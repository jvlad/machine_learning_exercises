{
  "cells": [
    {
      "cell_type": "markdown",
      "metadata": {
        "colab_type": "text",
        "id": "view-in-github"
      },
      "source": [
        "<a href=\"https://colab.research.google.com/github/jvlad/machine_learning_exercises/blob/main/coding_ai_best_practices.ipynb\" target=\"_parent\"><img src=\"https://colab.research.google.com/assets/colab-badge.svg\" alt=\"Open In Colab\"/></a>"
      ]
    },
    {
      "cell_type": "markdown",
      "metadata": {
        "id": "O3hX-vET0FhE"
      },
      "source": [
        "# Best AI Coding Practices for Running Experiments"
      ]
    },
    {
      "cell_type": "markdown",
      "metadata": {
        "id": "tupbf-nvmqAB"
      },
      "source": [
        "## 1. Install and Import Libraries"
      ]
    },
    {
      "cell_type": "code",
      "execution_count": 1,
      "metadata": {
        "colab": {
          "base_uri": "https://localhost:8080/"
        },
        "id": "c-3A0SnEjiTe",
        "outputId": "b40f2807-c163-4e95-fbf6-9d77ac1f7489"
      },
      "outputs": [
        {
          "name": "stdout",
          "output_type": "stream",
          "text": [
            "  Installing build dependencies ... \u001b[?25l\u001b[?25hdone\n",
            "  Getting requirements to build wheel ... \u001b[?25l\u001b[?25hdone\n",
            "  Preparing metadata (pyproject.toml) ... \u001b[?25l\u001b[?25hdone\n",
            "\u001b[2K     \u001b[90m━━━━━━━━━━━━━━━━━━━━━━━━━━━━━━━━━━━━━━━━\u001b[0m \u001b[32m1.6/1.6 MB\u001b[0m \u001b[31m12.9 MB/s\u001b[0m eta \u001b[36m0:00:00\u001b[0m\n",
            "\u001b[?25h  Building wheel for haven-ai (pyproject.toml) ... \u001b[?25l\u001b[?25hdone\n"
          ]
        }
      ],
      "source": [
        "# install and import libraries\n",
        "!pip install --upgrade --quiet git+https://github.com/haven-ai/haven-ai\n"
      ]
    },
    {
      "cell_type": "code",
      "execution_count": 2,
      "metadata": {
        "id": "QGXrzK-lAhBz"
      },
      "outputs": [],
      "source": [
        "import pandas as pd\n",
        "import tqdm.notebook as tqdm\n",
        "import os\n",
        "import torch\n",
        "import pickle\n",
        "import torchvision\n",
        "import numpy as np\n",
        "import json\n",
        "\n",
        "from haven import haven_results as hr\n",
        "from haven import haven_utils as hu\n"
      ]
    },
    {
      "cell_type": "markdown",
      "metadata": {
        "id": "0omL4yMmmuZz"
      },
      "source": [
        "## 2. Define Needed Functions"
      ]
    },
    {
      "cell_type": "code",
      "execution_count": 3,
      "metadata": {
        "id": "kK46bzJ-imJL"
      },
      "outputs": [],
      "source": [
        "def get_model(exp_dict):\n",
        "    model = torch.nn.Linear(784, 10)\n",
        "    opt = torch.optim.Adam(model.parameters(), lr=exp_dict[\"lr\"])\n",
        "\n",
        "    return model, opt\n",
        "\n",
        "def get_loader(exp_dict):\n",
        "    dataset_name = exp_dict['dataset']\n",
        "    if dataset_name  == 'mnist':\n",
        "      dataset = torchvision.datasets.MNIST(root=\"data\", train=True, download=True, transform=None)\n",
        "      return torch.utils.data.DataLoader(dataset, collate_fn=lambda x: x, batch_size=16, shuffle=True)\n",
        "    elif dataset_name == 'cifar':\n",
        "      dataset = torchvision.datasets.CIFAR10(root=\"data\", train=True, transform=None)\n",
        "      return torch.utils.data.DataLoader(dataset, collate_fn=lambda x: x, batch_size=16, shuffle=True)\n",
        "    else:\n",
        "      raise ValueError(f\"Dataset set [{dataset_name}] isn't supported.\")\n",
        "\n",
        "def save_pkl(fname, file):\n",
        "    os.makedirs(os.path.split(fname)[0], exist_ok=True)\n",
        "    with open(fname, \"wb\") as f:\n",
        "         pickle.dump(file, f)\n",
        "\n",
        "def save_json(fname, file):\n",
        "    os.makedirs(os.path.split(fname)[0], exist_ok=True)\n",
        "    with open(fname, 'w') as json_file:\n",
        "      json.dump(file, json_file, indent=4)\n",
        "\n",
        "def isIdAssigned(exp_dict):\n",
        "    return bool(exp_dict.get(\"id\"))\n",
        "\n",
        "def train_on_loader(model, opt, train_loader):\n",
        "    train_list = []\n",
        "    for batch in train_loader:\n",
        "        # Get Images\n",
        "        X = [torch.FloatTensor(np.array(x[0])) for x in batch]\n",
        "        X = torch.stack(X).view(-1, 784)\n",
        "\n",
        "        # Get labels\n",
        "        y = [x[1] for x in batch]\n",
        "\n",
        "        # Forward pass\n",
        "        out = model.forward(X)\n",
        "        loss = torch.nn.functional.cross_entropy(out, torch.LongTensor(y))\n",
        "\n",
        "        # Backpropagate\n",
        "        opt.zero_grad()\n",
        "        loss.backward()\n",
        "        opt.step()\n",
        "\n",
        "        # Get scores for one iteration\n",
        "        acc = (out.argmax(dim=1) == torch.LongTensor(y)).float().mean()\n",
        "        train_list += [{\"loss\": float(loss), \"acc\": float(acc)}]\n",
        "\n",
        "    # Get avg scores for one epoch\n",
        "    train_dict_avg = pd.DataFrame(train_list).mean().to_dict()\n",
        "\n",
        "    return train_dict_avg\n",
        "\n",
        "# Define the function to load data from a directory\n",
        "def load_data_from_directory(directory_path):\n",
        "    data = {}\n",
        "\n",
        "    # Load exp_dict from exp_dict.json\n",
        "    exp_dict_file = os.path.join(directory_path, 'exp_dict.json')\n",
        "    if os.path.exists(exp_dict_file):\n",
        "        with open(exp_dict_file, 'r') as json_file:\n",
        "            data['exp_dict'] = json.load(json_file)\n",
        "\n",
        "    # Load score_list from score_list.pkl\n",
        "    score_list_file = os.path.join(directory_path, 'score_list.pkl')\n",
        "    if os.path.exists(score_list_file):\n",
        "        with open(score_list_file, 'rb') as pickle_file:\n",
        "            data['score_list'] = pickle.load(pickle_file)\n",
        "\n",
        "    return data\n",
        "\n",
        "def get_score_data(exp_list, savedir_base):\n",
        "  # Initialize a list to store the loaded data\n",
        "  score_data = []\n",
        "\n",
        "  # Load data from each directory and append it to the list\n",
        "  for exp_dict in exp_list:\n",
        "      score_data.append(load_data_from_directory(os.path.join(savedir_base, hu.hash_dict(exp_dict))))\n",
        "\n",
        "  return score_data\n",
        "\n",
        "def get_score_dataframe(exp_list, savedir_base):\n",
        "  score_data = get_score_data(exp_list, savedir_base)\n",
        "  data_list = []\n",
        "\n",
        "  for data in score_data:\n",
        "      exp_dict = data.get('exp_dict', {})\n",
        "      score_list = data.get('score_list', [])\n",
        "\n",
        "      if score_list:\n",
        "          last_score = score_list[-1]\n",
        "\n",
        "          # Combine keys from both exp_dict and last_score\n",
        "          combined_keys = set(exp_dict.keys()) | set(last_score.keys())\n",
        "\n",
        "          # Create a dictionary with combined keys and values\n",
        "          combined_data = {**exp_dict, **last_score}\n",
        "\n",
        "          data_list.append(combined_data)\n",
        "\n",
        "\n",
        "  # Create the DataFrame\n",
        "  df = pd.DataFrame(data_list)\n",
        "\n",
        "  return df\n"
      ]
    },
    {
      "cell_type": "markdown",
      "metadata": {
        "id": "dbADNAPFmx6h"
      },
      "source": [
        "## 3. Run Experiments & Save Results"
      ]
    },
    {
      "cell_type": "code",
      "execution_count": 6,
      "metadata": {
        "colab": {
          "base_uri": "https://localhost:8080/",
          "height": 381
        },
        "id": "7bCDi3VlFsir",
        "outputId": "a34a2ad7-56fc-4c92-f5dc-dff528133634"
      },
      "outputs": [
        {
          "name": "stdout",
          "output_type": "stream",
          "text": [
            "{'lr': 0.01, 'dataset': 'cifar', 'model': 'linear'}\n"
          ]
        },
        {
          "ename": "UnboundLocalError",
          "evalue": "local variable 'loader' referenced before assignment",
          "output_type": "error",
          "traceback": [
            "\u001b[0;31m---------------------------------------------------------------------------\u001b[0m",
            "\u001b[0;31mUnboundLocalError\u001b[0m                         Traceback (most recent call last)",
            "\u001b[0;32m<ipython-input-6-9f0c9c2a159f>\u001b[0m in \u001b[0;36m<cell line: 41>\u001b[0;34m()\u001b[0m\n\u001b[1;32m     49\u001b[0m     \u001b[0;31m# Launch experiments using the trainval function\u001b[0m\u001b[0;34m\u001b[0m\u001b[0;34m\u001b[0m\u001b[0m\n\u001b[1;32m     50\u001b[0m     \u001b[0;32mfor\u001b[0m \u001b[0mexp_dict\u001b[0m \u001b[0;32min\u001b[0m \u001b[0mexp_list\u001b[0m\u001b[0;34m:\u001b[0m\u001b[0;34m\u001b[0m\u001b[0;34m\u001b[0m\u001b[0m\n\u001b[0;32m---> 51\u001b[0;31m       \u001b[0mtrainval\u001b[0m\u001b[0;34m(\u001b[0m\u001b[0mexp_dict\u001b[0m\u001b[0;34m,\u001b[0m \u001b[0mos\u001b[0m\u001b[0;34m.\u001b[0m\u001b[0mpath\u001b[0m\u001b[0;34m.\u001b[0m\u001b[0mjoin\u001b[0m\u001b[0;34m(\u001b[0m\u001b[0msavedir_base\u001b[0m\u001b[0;34m,\u001b[0m \u001b[0mhu\u001b[0m\u001b[0;34m.\u001b[0m\u001b[0mhash_dict\u001b[0m\u001b[0;34m(\u001b[0m\u001b[0mexp_dict\u001b[0m\u001b[0;34m)\u001b[0m\u001b[0;34m)\u001b[0m\u001b[0;34m,\u001b[0m \u001b[0;32mNone\u001b[0m\u001b[0;34m)\u001b[0m\u001b[0;34m\u001b[0m\u001b[0;34m\u001b[0m\u001b[0m\n\u001b[0m",
            "\u001b[0;32m<ipython-input-6-9f0c9c2a159f>\u001b[0m in \u001b[0;36mtrainval\u001b[0;34m(exp_dict, savedir, args)\u001b[0m\n\u001b[1;32m     10\u001b[0m \u001b[0;34m\u001b[0m\u001b[0m\n\u001b[1;32m     11\u001b[0m     \u001b[0;31m# Get MNIST dataset\u001b[0m\u001b[0;34m\u001b[0m\u001b[0;34m\u001b[0m\u001b[0m\n\u001b[0;32m---> 12\u001b[0;31m     \u001b[0mtrain_loader\u001b[0m \u001b[0;34m=\u001b[0m \u001b[0mget_loader\u001b[0m\u001b[0;34m(\u001b[0m\u001b[0mexp_dict\u001b[0m\u001b[0;34m)\u001b[0m\u001b[0;34m\u001b[0m\u001b[0;34m\u001b[0m\u001b[0m\n\u001b[0m\u001b[1;32m     13\u001b[0m \u001b[0;34m\u001b[0m\u001b[0m\n\u001b[1;32m     14\u001b[0m     \u001b[0;31m# Create Linear Model and Optimizer\u001b[0m\u001b[0;34m\u001b[0m\u001b[0;34m\u001b[0m\u001b[0m\n",
            "\u001b[0;32m<ipython-input-3-dd4187667b26>\u001b[0m in \u001b[0;36mget_loader\u001b[0;34m(exp_dict)\u001b[0m\n\u001b[1;32m     10\u001b[0m       \u001b[0mloader\u001b[0m \u001b[0;34m=\u001b[0m \u001b[0mtorch\u001b[0m\u001b[0;34m.\u001b[0m\u001b[0mutils\u001b[0m\u001b[0;34m.\u001b[0m\u001b[0mdata\u001b[0m\u001b[0;34m.\u001b[0m\u001b[0mDataLoader\u001b[0m\u001b[0;34m(\u001b[0m\u001b[0mdataset\u001b[0m\u001b[0;34m,\u001b[0m \u001b[0mcollate_fn\u001b[0m\u001b[0;34m=\u001b[0m\u001b[0;32mlambda\u001b[0m \u001b[0mx\u001b[0m\u001b[0;34m:\u001b[0m \u001b[0mx\u001b[0m\u001b[0;34m,\u001b[0m \u001b[0mbatch_size\u001b[0m\u001b[0;34m=\u001b[0m\u001b[0;36m16\u001b[0m\u001b[0;34m,\u001b[0m \u001b[0mshuffle\u001b[0m\u001b[0;34m=\u001b[0m\u001b[0;32mTrue\u001b[0m\u001b[0;34m)\u001b[0m\u001b[0;34m\u001b[0m\u001b[0;34m\u001b[0m\u001b[0m\n\u001b[1;32m     11\u001b[0m \u001b[0;34m\u001b[0m\u001b[0m\n\u001b[0;32m---> 12\u001b[0;31m     \u001b[0;32mreturn\u001b[0m \u001b[0mloader\u001b[0m\u001b[0;34m\u001b[0m\u001b[0;34m\u001b[0m\u001b[0m\n\u001b[0m\u001b[1;32m     13\u001b[0m \u001b[0;34m\u001b[0m\u001b[0m\n\u001b[1;32m     14\u001b[0m \u001b[0;32mdef\u001b[0m \u001b[0msave_pkl\u001b[0m\u001b[0;34m(\u001b[0m\u001b[0mfname\u001b[0m\u001b[0;34m,\u001b[0m \u001b[0mfile\u001b[0m\u001b[0;34m)\u001b[0m\u001b[0;34m:\u001b[0m\u001b[0;34m\u001b[0m\u001b[0;34m\u001b[0m\u001b[0m\n",
            "\u001b[0;31mUnboundLocalError\u001b[0m: local variable 'loader' referenced before assignment"
          ]
        }
      ],
      "source": [
        "# Define Training Validation Procedure\n",
        "def trainval(exp_dict, savedir, args):\n",
        "    \"\"\"\n",
        "    exp_dict: dictionary defining the hyperparameters of the experiment\n",
        "    savedir: the directory where the experiment will be saved\n",
        "    args: arguments passed through the command line\n",
        "    \"\"\"\n",
        "    print(exp_dict)\n",
        "    save_json(os.path.join(savedir, \"exp_dict.json\"), exp_dict)\n",
        "\n",
        "    # Get MNIST dataset\n",
        "    train_loader = get_loader(exp_dict)\n",
        "\n",
        "    # Create Linear Model and Optimizer\n",
        "    model, opt = get_model(exp_dict)\n",
        "\n",
        "    # Define Score List\n",
        "    score_list = []\n",
        "\n",
        "    # Train and Validate\n",
        "    for epoch in tqdm.tqdm(range(1), desc=\"Running TrainVal\", leave=False):\n",
        "        # Train for one epoch\n",
        "        train_dict = train_on_loader(model, opt, train_loader)\n",
        "\n",
        "        # Get Metrics from last iteration of the epoch\n",
        "        score_dict = {\"epoch\": epoch,\n",
        "                      \"loss\": train_dict[\"loss\"],\n",
        "                      \"acc\": train_dict[\"acc\"]}\n",
        "\n",
        "        # Save Metrics in \"savedir\" as score_list.pkl\n",
        "        score_list += [score_dict]\n",
        "\n",
        "        # Save pickle\n",
        "        save_pkl(os.path.join(savedir, \"score_list.pkl\"), score_list)\n",
        "\n",
        "        # Print Metrics\n",
        "        print(pd.DataFrame(score_list).tail())\n",
        "\n",
        "    print(\"Experiment done\\n\")\n",
        "\n",
        "if __name__ == '__main__':\n",
        "    # Define a list of experiments\n",
        "    exp_list = []\n",
        "    for lr in [1e-2, 1e-3, 1e-5]:\n",
        "        exp_list += [{'lr':lr, 'dataset':'cifar', 'model':'linear'}]\n",
        "\n",
        "    savedir_base = \"results\"\n",
        "\n",
        "    # Launch experiments using the trainval function\n",
        "    for exp_dict in exp_list:\n",
        "      trainval(exp_dict, os.path.join(savedir_base, hu.hash_dict(exp_dict)), None)"
      ]
    },
    {
      "cell_type": "code",
      "execution_count": null,
      "metadata": {
        "id": "KC1zRr8vlHkR"
      },
      "outputs": [],
      "source": []
    },
    {
      "cell_type": "markdown",
      "metadata": {
        "id": "f9W4J8fx31x5"
      },
      "source": [
        "## 4. Visualize the Results"
      ]
    },
    {
      "cell_type": "code",
      "execution_count": 5,
      "metadata": {
        "colab": {
          "base_uri": "https://localhost:8080/",
          "height": 558
        },
        "id": "jpnG3SBr1d04",
        "outputId": "52297b03-315f-4cff-bf6e-bae109e7c1f4"
      },
      "outputs": [
        {
          "name": "stdout",
          "output_type": "stream",
          "text": [
            "        lr dataset   model  epoch       loss       acc\n",
            "0  0.01000   mnist  linear      0  65.245255  0.853233\n",
            "1  0.00100   mnist  linear      0   7.390091  0.852433\n",
            "2  0.00001   mnist  linear      0  18.413120  0.491467\n",
            "[{'exp_dict': {'lr': 0.01, 'dataset': 'mnist', 'model': 'linear'}, 'score_list': [{'epoch': 0, 'loss': 65.24525548191797, 'acc': 0.8532333333333333}]}, {'exp_dict': {'lr': 0.001, 'dataset': 'mnist', 'model': 'linear'}, 'score_list': [{'epoch': 0, 'loss': 7.39009117262761, 'acc': 0.8524333333333334}]}, {'exp_dict': {'lr': 1e-05, 'dataset': 'mnist', 'model': 'linear'}, 'score_list': [{'epoch': 0, 'loss': 18.41312003572172, 'acc': 0.49146666666666666}]}]\n"
          ]
        },
        {
          "data": {
            "image/png": "[encoded data removed]",
            "text/plain": [
              "<Figure size 640x480 with 1 Axes>"
            ]
          },
          "metadata": {},
          "output_type": "display_data"
        }
      ],
      "source": [
        "# Get Score data\n",
        "savedir_base = \"results\"\n",
        "score_df = get_score_dataframe(exp_list, savedir_base)\n",
        "\n",
        "# Display Score Data in Table Form\n",
        "print(score_df)\n",
        "\n",
        "# Display Score Data in Plot Form\n",
        "import matplotlib.pyplot as plt\n",
        "\n",
        "# Define the function to plot data\n",
        "score_data = get_score_data(exp_list, savedir_base)\n",
        "print(score_data)\n",
        "# Define the function to plot data\n",
        "def plot(score_data, legend=None, y_axis=None, x_axis=None):\n",
        "    # Create a new figure\n",
        "    plt.figure()\n",
        "\n",
        "    # Loop through each entry in score_data\n",
        "    for data_entry in score_data:\n",
        "        # Extract the score list and experiment dictionary\n",
        "        score_list = data_entry.get('score_list', [])\n",
        "        exp_dict = data_entry.get('exp_dict', {})\n",
        "\n",
        "        # Use the specified keys from the score_list as x-axis and y-axis values\n",
        "        x_values = [entry.get(x_axis, None) for entry in score_list]\n",
        "        y_values = [entry.get(y_axis, None) for entry in score_list]\n",
        "\n",
        "        # Create a label for the legend using the keys from the legend list\n",
        "        if legend:\n",
        "            label = ', '.join([str(exp_dict.get(key, key)) for key in legend])\n",
        "        else:\n",
        "            label = 'Entry'\n",
        "\n",
        "        # Plot the y-axis and x-axis values using Matplotlib\n",
        "        plt.plot(x_values, y_values, label=label)\n",
        "\n",
        "    # Set labels for x and y axes using the provided arguments\n",
        "    if x_axis:\n",
        "        plt.xlabel(x_axis)\n",
        "    if y_axis:\n",
        "        plt.ylabel(y_axis)\n",
        "\n",
        "    # Add legend\n",
        "    plt.legend()\n",
        "    plt.grid(True)\n",
        "\n",
        "    # Show the plot\n",
        "    plt.show()\n",
        "\n",
        "\n",
        "\n",
        "plot(score_data, legend=['lr', 'dataset', 'model'], y_axis='acc', x_axis='epoch')\n"
      ]
    },
    {
      "cell_type": "code",
      "execution_count": null,
      "metadata": {
        "id": "LGGeMKqPqUSJ"
      },
      "outputs": [],
      "source": []
    }
  ],
  "metadata": {
    "colab": {
      "include_colab_link": true,
      "provenance": []
    },
    "kernelspec": {
      "display_name": "Python 3",
      "name": "python3"
    }
  },
  "nbformat": 4,
  "nbformat_minor": 0
}

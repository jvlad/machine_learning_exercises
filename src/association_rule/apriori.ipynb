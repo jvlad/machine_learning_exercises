{
 "cells": [
  {
   "cell_type": "code",
   "execution_count": 10,
   "metadata": {},
   "outputs": [
    {
     "name": "stderr",
     "output_type": "stream",
     "text": [
      "248002.94s - pydevd: Sending message related to process being replaced timed-out after 5 seconds\n"
     ]
    },
    {
     "name": "stdout",
     "output_type": "stream",
     "text": [
      "Defaulting to user installation because normal site-packages is not writeable\n",
      "Requirement already satisfied: apyori in /Users/vladzams/Library/Python/3.9/lib/python/site-packages (1.1.2)\n",
      "\u001b[33mWARNING: You are using pip version 21.2.4; however, version 23.3.2 is available.\n",
      "You should consider upgrading via the '/Library/Developer/CommandLineTools/usr/bin/python3 -m pip install --upgrade pip' command.\u001b[0m\n",
      "Note: you may need to restart the kernel to use updated packages.\n"
     ]
    }
   ],
   "source": [
    "%pip install apyori"
   ]
  },
  {
   "cell_type": "code",
   "execution_count": 11,
   "metadata": {},
   "outputs": [],
   "source": [
    "%reload_ext autoreload\n",
    "%autoreload 2\n",
    "import sys\n",
    "sys.path.append('..')\n",
    "import numpy as np\n",
    "import pandas as pd\n",
    "import matplotlib.pyplot as plt\n",
    "import math"
   ]
  },
  {
   "cell_type": "code",
   "execution_count": 15,
   "metadata": {},
   "outputs": [
    {
     "name": "stdout",
     "output_type": "stream",
     "text": [
      "7501\n"
     ]
    },
    {
     "data": {
      "text/plain": [
       "0"
      ]
     },
     "execution_count": 15,
     "metadata": {},
     "output_type": "execute_result"
    }
   ],
   "source": [
    "dataset = pd.read_csv(\"../datasets/Market_Basket_Optimisation.csv\", header=None)\n",
    "print(len(dataset))\n",
    "transactions = []\n",
    "for transaction in dataset.values:\n",
    "    transactions.append([product for product in transaction if isinstance(product, str)])\n",
    "\n",
    "0"
   ]
  },
  {
   "cell_type": "code",
   "execution_count": 34,
   "metadata": {},
   "outputs": [
    {
     "data": {
      "text/plain": [
       "0"
      ]
     },
     "execution_count": 34,
     "metadata": {},
     "output_type": "execute_result"
    }
   ],
   "source": [
    "from apyori import apriori\n",
    "\n",
    "daily_recurrence_threshold = 3\n",
    "min_support = 7 * daily_recurrence_threshold / len(transactions)\n",
    "min_confidence = 0.2 # set based on experimentation and checking how many rules we're getting  \n",
    "association_product_count = 2\n",
    "rules = apriori(transactions=transactions,\n",
    "                min_support=min_support,\n",
    "                min_confidence=min_confidence,\n",
    "                min_lift=3,\n",
    "                min_length=association_product_count,\n",
    "                max_length=association_product_count\n",
    "                )\n",
    "\n",
    "rules_as_list = list(rules)\n",
    "\n",
    "0"
   ]
  },
  {
   "cell_type": "code",
   "execution_count": 36,
   "metadata": {},
   "outputs": [
    {
     "name": "stdout",
     "output_type": "stream",
     "text": [
      "[[0, 'extra dark chocolate', 'chicken', 0.23333333333333334, 3.8894074074074076, 0.0027996267164378083], [1, 'light cream', 'chicken', 0.29059829059829057, 4.84395061728395, 0.004532728969470737], [2, 'mushroom cream sauce', 'escalope', 0.3006993006993007, 3.790832696715049, 0.005732568990801226], [3, 'pasta', 'escalope', 0.3728813559322034, 4.700811850163794, 0.005865884548726837], [4, 'fromage blanc', 'honey', 0.2450980392156863, 5.164270764485569, 0.003332888948140248], [5, 'herb & pepper', 'ground beef', 0.3234501347708895, 3.2919938411349285, 0.015997866951073192], [6, 'tomato sauce', 'ground beef', 0.3773584905660377, 3.840659481324083, 0.005332622317024397], [7, 'light cream', 'olive oil', 0.20512820512820515, 3.1147098515519573, 0.003199573390214638], [8, 'whole wheat pasta', 'olive oil', 0.2714932126696833, 4.122410097642296, 0.007998933475536596], [9, 'pasta', 'shrimp', 0.3220338983050847, 4.506672147735896, 0.005065991201173177]]\n"
     ]
    }
   ],
   "source": [
    "def relations_with_higher_confidence(rules: list) -> list:\n",
    "    \"\"\"\n",
    "    returns: list<[idx, base_item, added_item, confidence, lift, support]>\n",
    "    \"\"\"\n",
    "    results = []\n",
    "    for idx_to_rule in enumerate(rules):\n",
    "        rule = idx_to_rule[1]\n",
    "        ordered_stat_list = rule.ordered_statistics\n",
    "        max_stat = max(ordered_stat_list, key=lambda i: i.confidence)\n",
    "        results.append([idx_to_rule[0], list(max_stat.items_base)[0], list(max_stat.items_add)[0], max_stat.confidence, max_stat.lift, rule.support])\n",
    "    return results\n",
    "\n",
    "\n",
    "relations_with_higher_confidence = relations_with_higher_confidence(rules_as_list)\n",
    "\n",
    "# todo: produce a pandas DataFrame"
   ]
  }
 ],
 "metadata": {
  "kernelspec": {
   "display_name": "Python 3",
   "language": "python",
   "name": "python3"
  },
  "language_info": {
   "codemirror_mode": {
    "name": "ipython",
    "version": 3
   },
   "file_extension": ".py",
   "mimetype": "text/x-python",
   "name": "python",
   "nbconvert_exporter": "python",
   "pygments_lexer": "ipython3",
   "version": "3.9.6"
  }
 },
 "nbformat": 4,
 "nbformat_minor": 2
}

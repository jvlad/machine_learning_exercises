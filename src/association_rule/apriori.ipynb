{
 "cells": [
  {
   "cell_type": "code",
   "execution_count": 1,
   "metadata": {},
   "outputs": [
    {
     "name": "stdout",
     "output_type": "stream",
     "text": [
      "Defaulting to user installation because normal site-packages is not writeable\n",
      "Requirement already satisfied: apyori in /Users/vladzams/Library/Python/3.9/lib/python/site-packages (1.1.2)\n",
      "\u001b[33mWARNING: You are using pip version 21.2.4; however, version 23.3.2 is available.\n",
      "You should consider upgrading via the '/Library/Developer/CommandLineTools/usr/bin/python3 -m pip install --upgrade pip' command.\u001b[0m\n",
      "Note: you may need to restart the kernel to use updated packages.\n"
     ]
    }
   ],
   "source": [
    "%pip install apyori"
   ]
  },
  {
   "cell_type": "code",
   "execution_count": 2,
   "metadata": {},
   "outputs": [],
   "source": [
    "%reload_ext autoreload\n",
    "%autoreload 2\n",
    "import sys\n",
    "sys.path.append('..')\n",
    "import numpy as np\n",
    "import pandas as pd\n",
    "import matplotlib.pyplot as plt\n",
    "import math"
   ]
  },
  {
   "cell_type": "code",
   "execution_count": 3,
   "metadata": {},
   "outputs": [
    {
     "name": "stdout",
     "output_type": "stream",
     "text": [
      "7501\n"
     ]
    },
    {
     "data": {
      "text/plain": [
       "0"
      ]
     },
     "execution_count": 3,
     "metadata": {},
     "output_type": "execute_result"
    }
   ],
   "source": [
    "dataset = pd.read_csv(\"../datasets/Market_Basket_Optimisation.csv\", header=None)\n",
    "print(len(dataset))\n",
    "transactions = []\n",
    "for transaction in dataset.values:\n",
    "    transactions.append([product for product in transaction if isinstance(product, str)])\n",
    "\n",
    "0"
   ]
  },
  {
   "cell_type": "code",
   "execution_count": 4,
   "metadata": {},
   "outputs": [
    {
     "data": {
      "text/plain": [
       "0"
      ]
     },
     "execution_count": 4,
     "metadata": {},
     "output_type": "execute_result"
    }
   ],
   "source": [
    "from apyori import apriori\n",
    "\n",
    "daily_recurrence_threshold = 3\n",
    "min_support = 7 * daily_recurrence_threshold / len(transactions)\n",
    "min_confidence = 0.2 # set based on experimentation and checking how many rules we're getting  \n",
    "association_product_count = 2\n",
    "rules = apriori(transactions=transactions,\n",
    "                min_support=min_support,\n",
    "                min_confidence=min_confidence,\n",
    "                min_lift=3,\n",
    "                min_length=association_product_count,\n",
    "                max_length=association_product_count\n",
    "                )\n",
    "\n",
    "rules_as_list = list(rules)\n",
    "\n",
    "0"
   ]
  },
  {
   "cell_type": "code",
   "execution_count": 10,
   "metadata": {},
   "outputs": [
    {
     "data": {
      "text/html": [
       "<div>\n",
       "<style scoped>\n",
       "    .dataframe tbody tr th:only-of-type {\n",
       "        vertical-align: middle;\n",
       "    }\n",
       "\n",
       "    .dataframe tbody tr th {\n",
       "        vertical-align: top;\n",
       "    }\n",
       "\n",
       "    .dataframe thead th {\n",
       "        text-align: right;\n",
       "    }\n",
       "</style>\n",
       "<table border=\"1\" class=\"dataframe\">\n",
       "  <thead>\n",
       "    <tr style=\"text-align: right;\">\n",
       "      <th></th>\n",
       "      <th>Base item</th>\n",
       "      <th>Added item</th>\n",
       "      <th>Lift</th>\n",
       "      <th>Confidence</th>\n",
       "      <th>Support</th>\n",
       "    </tr>\n",
       "  </thead>\n",
       "  <tbody>\n",
       "    <tr>\n",
       "      <th>4</th>\n",
       "      <td>fromage blanc</td>\n",
       "      <td>honey</td>\n",
       "      <td>5.164270764485569</td>\n",
       "      <td>0.2450980392156863</td>\n",
       "      <td>0.003332888948140248</td>\n",
       "    </tr>\n",
       "    <tr>\n",
       "      <th>1</th>\n",
       "      <td>light cream</td>\n",
       "      <td>chicken</td>\n",
       "      <td>4.84395061728395</td>\n",
       "      <td>0.29059829059829057</td>\n",
       "      <td>0.004532728969470737</td>\n",
       "    </tr>\n",
       "    <tr>\n",
       "      <th>3</th>\n",
       "      <td>pasta</td>\n",
       "      <td>escalope</td>\n",
       "      <td>4.700811850163794</td>\n",
       "      <td>0.3728813559322034</td>\n",
       "      <td>0.005865884548726837</td>\n",
       "    </tr>\n",
       "    <tr>\n",
       "      <th>9</th>\n",
       "      <td>pasta</td>\n",
       "      <td>shrimp</td>\n",
       "      <td>4.506672147735896</td>\n",
       "      <td>0.3220338983050847</td>\n",
       "      <td>0.005065991201173177</td>\n",
       "    </tr>\n",
       "    <tr>\n",
       "      <th>8</th>\n",
       "      <td>whole wheat pasta</td>\n",
       "      <td>olive oil</td>\n",
       "      <td>4.122410097642296</td>\n",
       "      <td>0.2714932126696833</td>\n",
       "      <td>0.007998933475536596</td>\n",
       "    </tr>\n",
       "    <tr>\n",
       "      <th>0</th>\n",
       "      <td>extra dark chocolate</td>\n",
       "      <td>chicken</td>\n",
       "      <td>3.8894074074074076</td>\n",
       "      <td>0.23333333333333334</td>\n",
       "      <td>0.0027996267164378083</td>\n",
       "    </tr>\n",
       "    <tr>\n",
       "      <th>6</th>\n",
       "      <td>tomato sauce</td>\n",
       "      <td>ground beef</td>\n",
       "      <td>3.840659481324083</td>\n",
       "      <td>0.3773584905660377</td>\n",
       "      <td>0.005332622317024397</td>\n",
       "    </tr>\n",
       "    <tr>\n",
       "      <th>2</th>\n",
       "      <td>mushroom cream sauce</td>\n",
       "      <td>escalope</td>\n",
       "      <td>3.790832696715049</td>\n",
       "      <td>0.3006993006993007</td>\n",
       "      <td>0.005732568990801226</td>\n",
       "    </tr>\n",
       "    <tr>\n",
       "      <th>5</th>\n",
       "      <td>herb &amp; pepper</td>\n",
       "      <td>ground beef</td>\n",
       "      <td>3.2919938411349285</td>\n",
       "      <td>0.3234501347708895</td>\n",
       "      <td>0.015997866951073192</td>\n",
       "    </tr>\n",
       "    <tr>\n",
       "      <th>7</th>\n",
       "      <td>light cream</td>\n",
       "      <td>olive oil</td>\n",
       "      <td>3.1147098515519573</td>\n",
       "      <td>0.20512820512820515</td>\n",
       "      <td>0.003199573390214638</td>\n",
       "    </tr>\n",
       "  </tbody>\n",
       "</table>\n",
       "</div>"
      ],
      "text/plain": [
       "              Base item   Added item                Lift           Confidence  \\\n",
       "4         fromage blanc        honey   5.164270764485569   0.2450980392156863   \n",
       "1           light cream      chicken    4.84395061728395  0.29059829059829057   \n",
       "3                 pasta     escalope   4.700811850163794   0.3728813559322034   \n",
       "9                 pasta       shrimp   4.506672147735896   0.3220338983050847   \n",
       "8     whole wheat pasta    olive oil   4.122410097642296   0.2714932126696833   \n",
       "0  extra dark chocolate      chicken  3.8894074074074076  0.23333333333333334   \n",
       "6          tomato sauce  ground beef   3.840659481324083   0.3773584905660377   \n",
       "2  mushroom cream sauce     escalope   3.790832696715049   0.3006993006993007   \n",
       "5         herb & pepper  ground beef  3.2919938411349285   0.3234501347708895   \n",
       "7           light cream    olive oil  3.1147098515519573  0.20512820512820515   \n",
       "\n",
       "                 Support  \n",
       "4   0.003332888948140248  \n",
       "1   0.004532728969470737  \n",
       "3   0.005865884548726837  \n",
       "9   0.005065991201173177  \n",
       "8   0.007998933475536596  \n",
       "0  0.0027996267164378083  \n",
       "6   0.005332622317024397  \n",
       "2   0.005732568990801226  \n",
       "5   0.015997866951073192  \n",
       "7   0.003199573390214638  "
      ]
     },
     "execution_count": 10,
     "metadata": {},
     "output_type": "execute_result"
    }
   ],
   "source": [
    "def relations_with_higher_confidence(rules: list) -> np.array:\n",
    "    \"\"\"\n",
    "    returns: list<[idx, base_item, added_item, lift, confidence, support]>\n",
    "    \"\"\"\n",
    "    results = []\n",
    "    for idx_to_rule in enumerate(rules):\n",
    "        rule = idx_to_rule[1]\n",
    "        ordered_stat_list = rule.ordered_statistics\n",
    "        max_stat = max(ordered_stat_list, key=lambda i: i.confidence)\n",
    "        results.append([idx_to_rule[0], list(max_stat.items_base)[0], list(max_stat.items_add)[0], max_stat.lift, max_stat.confidence, rule.support])\n",
    "    result_as_numpy_array = np.array(results)[:, 1:]\n",
    "    return result_as_numpy_array\n",
    "\n",
    "\n",
    "relations_with_higher_confidence = relations_with_higher_confidence(rules_as_list)\n",
    "results_data_frame = pd.DataFrame(relations_with_higher_confidence, columns=['Base item', 'Added item', 'Lift', 'Confidence', 'Support'])\n",
    "desc_by_lift = results_data_frame.sort_values('Lift', ascending=False)\n",
    "desc_by_lift"
   ]
  }
 ],
 "metadata": {
  "kernelspec": {
   "display_name": "Python 3",
   "language": "python",
   "name": "python3"
  },
  "language_info": {
   "codemirror_mode": {
    "name": "ipython",
    "version": 3
   },
   "file_extension": ".py",
   "mimetype": "text/x-python",
   "name": "python",
   "nbconvert_exporter": "python",
   "pygments_lexer": "ipython3",
   "version": "3.9.6"
  }
 },
 "nbformat": 4,
 "nbformat_minor": 2
}

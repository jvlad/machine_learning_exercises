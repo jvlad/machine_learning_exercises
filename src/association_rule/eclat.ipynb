{
 "cells": [
  {
   "cell_type": "code",
   "execution_count": 1,
   "metadata": {},
   "outputs": [],
   "source": [
    "# %pip install apyori"
   ]
  },
  {
   "cell_type": "code",
   "execution_count": 2,
   "metadata": {},
   "outputs": [],
   "source": [
    "%reload_ext autoreload\n",
    "%autoreload 2\n",
    "import sys\n",
    "sys.path.append('..')\n",
    "import numpy as np\n",
    "import pandas as pd\n",
    "import matplotlib.pyplot as plt\n",
    "import math"
   ]
  },
  {
   "cell_type": "code",
   "execution_count": 3,
   "metadata": {},
   "outputs": [
    {
     "name": "stdout",
     "output_type": "stream",
     "text": [
      "7501\n"
     ]
    },
    {
     "data": {
      "text/plain": [
       "0"
      ]
     },
     "execution_count": 3,
     "metadata": {},
     "output_type": "execute_result"
    }
   ],
   "source": [
    "dataset = pd.read_csv(\"../datasets/Market_Basket_Optimisation.csv\", header=None)\n",
    "print(len(dataset))\n",
    "transactions = []\n",
    "for transaction in dataset.values:\n",
    "    transactions.append([product for product in transaction if isinstance(product, str)])\n",
    "\n",
    "0"
   ]
  },
  {
   "cell_type": "code",
   "execution_count": 4,
   "metadata": {},
   "outputs": [
    {
     "data": {
      "text/plain": [
       "0"
      ]
     },
     "execution_count": 4,
     "metadata": {},
     "output_type": "execute_result"
    }
   ],
   "source": [
    "from apyori import apriori\n",
    "\n",
    "daily_recurrence_threshold = 3\n",
    "min_support = 7 * daily_recurrence_threshold / len(transactions)\n",
    "min_confidence = 0.2 # set based on experimentation and checking how many rules we're getting  \n",
    "association_product_count = 4\n",
    "rules = apriori(transactions=transactions,\n",
    "                min_support=min_support,\n",
    "                min_confidence=min_confidence,\n",
    "                min_lift=3,\n",
    "                min_length=association_product_count,\n",
    "                max_length=association_product_count\n",
    "                )\n",
    "\n",
    "rules_as_list = list(rules)\n",
    "\n",
    "0"
   ]
  },
  {
   "cell_type": "code",
   "execution_count": 5,
   "metadata": {},
   "outputs": [
    {
     "data": {
      "text/html": [
       "<div>\n",
       "<style scoped>\n",
       "    .dataframe tbody tr th:only-of-type {\n",
       "        vertical-align: middle;\n",
       "    }\n",
       "\n",
       "    .dataframe tbody tr th {\n",
       "        vertical-align: top;\n",
       "    }\n",
       "\n",
       "    .dataframe thead th {\n",
       "        text-align: right;\n",
       "    }\n",
       "</style>\n",
       "<table border=\"1\" class=\"dataframe\">\n",
       "  <thead>\n",
       "    <tr style=\"text-align: right;\">\n",
       "      <th></th>\n",
       "      <th>Product set</th>\n",
       "      <th>Support</th>\n",
       "    </tr>\n",
       "  </thead>\n",
       "  <tbody>\n",
       "    <tr>\n",
       "      <th>5</th>\n",
       "      <td>(ground beef, herb &amp; pepper)</td>\n",
       "      <td>0.015998</td>\n",
       "    </tr>\n",
       "    <tr>\n",
       "      <th>33</th>\n",
       "      <td>(ground beef, spaghetti, frozen vegetables)</td>\n",
       "      <td>0.008666</td>\n",
       "    </tr>\n",
       "    <tr>\n",
       "      <th>8</th>\n",
       "      <td>(whole wheat pasta, olive oil)</td>\n",
       "      <td>0.007999</td>\n",
       "    </tr>\n",
       "    <tr>\n",
       "      <th>56</th>\n",
       "      <td>(milk, spaghetti, olive oil)</td>\n",
       "      <td>0.007199</td>\n",
       "    </tr>\n",
       "    <tr>\n",
       "      <th>37</th>\n",
       "      <td>(shrimp, mineral water, frozen vegetables)</td>\n",
       "      <td>0.007199</td>\n",
       "    </tr>\n",
       "    <tr>\n",
       "      <th>41</th>\n",
       "      <td>(tomatoes, spaghetti, frozen vegetables)</td>\n",
       "      <td>0.006666</td>\n",
       "    </tr>\n",
       "    <tr>\n",
       "      <th>45</th>\n",
       "      <td>(ground beef, mineral water, herb &amp; pepper)</td>\n",
       "      <td>0.006666</td>\n",
       "    </tr>\n",
       "    <tr>\n",
       "      <th>47</th>\n",
       "      <td>(ground beef, spaghetti, herb &amp; pepper)</td>\n",
       "      <td>0.006399</td>\n",
       "    </tr>\n",
       "    <tr>\n",
       "      <th>39</th>\n",
       "      <td>(spaghetti, shrimp, frozen vegetables)</td>\n",
       "      <td>0.005999</td>\n",
       "    </tr>\n",
       "    <tr>\n",
       "      <th>51</th>\n",
       "      <td>(ground beef, spaghetti, shrimp)</td>\n",
       "      <td>0.005999</td>\n",
       "    </tr>\n",
       "  </tbody>\n",
       "</table>\n",
       "</div>"
      ],
      "text/plain": [
       "                                    Product set   Support\n",
       "5                  (ground beef, herb & pepper)  0.015998\n",
       "33  (ground beef, spaghetti, frozen vegetables)  0.008666\n",
       "8                (whole wheat pasta, olive oil)  0.007999\n",
       "56                 (milk, spaghetti, olive oil)  0.007199\n",
       "37   (shrimp, mineral water, frozen vegetables)  0.007199\n",
       "41     (tomatoes, spaghetti, frozen vegetables)  0.006666\n",
       "45  (ground beef, mineral water, herb & pepper)  0.006666\n",
       "47      (ground beef, spaghetti, herb & pepper)  0.006399\n",
       "39       (spaghetti, shrimp, frozen vegetables)  0.005999\n",
       "51             (ground beef, spaghetti, shrimp)  0.005999"
      ]
     },
     "execution_count": 5,
     "metadata": {},
     "output_type": "execute_result"
    }
   ],
   "source": [
    "def format_into_product_sets_list(rules: list) -> np.array:\n",
    "    \"\"\"\n",
    "    returns: list<[idx, base_item, added_item, support]>\n",
    "    \"\"\"\n",
    "    results = []\n",
    "    for idx_to_rule in enumerate(rules):\n",
    "        rule = idx_to_rule[1]\n",
    "        results.append([idx_to_rule[0], rule.items, rule.support])\n",
    "    result_as_numpy_array = np.array(results)[:, 1:]\n",
    "    return result_as_numpy_array\n",
    "\n",
    "\n",
    "product_sets_list = format_into_product_sets_list(rules_as_list)\n",
    "results_data_frame = pd.DataFrame(product_sets_list, columns=['Product set', 'Support'])\n",
    "desc_by_support = results_data_frame.sort_values('Support', ascending=False).head(10)\n",
    "desc_by_support"
   ]
  }
 ],
 "metadata": {
  "kernelspec": {
   "display_name": "Python 3",
   "language": "python",
   "name": "python3"
  },
  "language_info": {
   "codemirror_mode": {
    "name": "ipython",
    "version": 3
   },
   "file_extension": ".py",
   "mimetype": "text/x-python",
   "name": "python",
   "nbconvert_exporter": "python",
   "pygments_lexer": "ipython3",
   "version": "3.9.6"
  }
 },
 "nbformat": 4,
 "nbformat_minor": 2
}

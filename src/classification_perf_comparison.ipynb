{
 "cells": [
  {
   "cell_type": "code",
   "execution_count": 1,
   "metadata": {},
   "outputs": [
    {
     "name": "stdout",
     "output_type": "stream",
     "text": [
      "     Sample code number  Clump Thickness  Uniformity of Cell Size  \\\n",
      "0               1000025                5                        1   \n",
      "1               1002945                5                        4   \n",
      "2               1015425                3                        1   \n",
      "3               1016277                6                        8   \n",
      "4               1017023                4                        1   \n",
      "..                  ...              ...                      ...   \n",
      "678              776715                3                        1   \n",
      "679              841769                2                        1   \n",
      "680              888820                5                       10   \n",
      "681              897471                4                        8   \n",
      "682              897471                4                        8   \n",
      "\n",
      "     Uniformity of Cell Shape  Marginal Adhesion  Single Epithelial Cell Size  \\\n",
      "0                           1                  1                            2   \n",
      "1                           4                  5                            7   \n",
      "2                           1                  1                            2   \n",
      "3                           8                  1                            3   \n",
      "4                           1                  3                            2   \n",
      "..                        ...                ...                          ...   \n",
      "678                         1                  1                            3   \n",
      "679                         1                  1                            2   \n",
      "680                        10                  3                            7   \n",
      "681                         6                  4                            3   \n",
      "682                         8                  5                            4   \n",
      "\n",
      "     Bare Nuclei  Bland Chromatin  Normal Nucleoli  Mitoses  Class  \n",
      "0              1                3                1        1      2  \n",
      "1             10                3                2        1      2  \n",
      "2              2                3                1        1      2  \n",
      "3              4                3                7        1      2  \n",
      "4              1                3                1        1      2  \n",
      "..           ...              ...              ...      ...    ...  \n",
      "678            2                1                1        1      2  \n",
      "679            1                1                1        1      2  \n",
      "680            3                8               10        2      4  \n",
      "681            4               10                6        1      4  \n",
      "682            5               10                4        1      4  \n",
      "\n",
      "[683 rows x 11 columns]\n"
     ]
    }
   ],
   "source": [
    "%reload_ext autoreload\n",
    "%autoreload 2\n",
    "import numpy as np\n",
    "import pandas as pd\n",
    "from sklearn.model_selection import train_test_split\n",
    "from sklearn.preprocessing import StandardScaler\n",
    "\n",
    "dataset = pd.read_csv('datasets/Data_classification.csv')\n",
    "print(dataset)\n",
    "X = dataset.iloc[:, 1:-1].values\n",
    "y = dataset.iloc[:, -1].values\n",
    "\n",
    "X_train, X_test, y_train, y_test = train_test_split(\n",
    "    X, y, test_size=0.2, random_state=4)\n",
    "\n",
    "scalerX = StandardScaler()\n",
    "X_train_scaled = scalerX.fit_transform(X_train)\n",
    "X_test_scaled = scalerX.transform(X_test)"
   ]
  },
  {
   "cell_type": "code",
   "execution_count": 22,
   "metadata": {},
   "outputs": [
    {
     "name": "stdout",
     "output_type": "stream",
     "text": [
      "[['Random Forest' '0.9781021897810219']\n",
      " ['K_NN' '0.9781021897810219']\n",
      " ['Logistic' '0.9708029197080292']\n",
      " ['Decision Tree' '0.9635036496350365']\n",
      " ['Kernel_SVM' '0.9635036496350365']\n",
      " ['Linear_SVM' '0.9635036496350365']\n",
      " ['Naive Bayes' '0.948905109489051']]\n"
     ]
    },
    {
     "data": {
      "text/plain": [
       "0"
      ]
     },
     "execution_count": 22,
     "metadata": {},
     "output_type": "execute_result"
    }
   ],
   "source": [
    "from sklearn.tree import DecisionTreeClassifier\n",
    "from sklearn.ensemble import RandomForestClassifier\n",
    "from sklearn.linear_model import LogisticRegression\n",
    "from sklearn.neighbors import KNeighborsClassifier\n",
    "from sklearn.svm import SVC\n",
    "from sklearn.naive_bayes import GaussianNB\n",
    "from utils import accuracy_and_confusion\n",
    "\n",
    "classifier = DecisionTreeClassifier(criterion='entropy', random_state=0)\n",
    "classifiers = [\n",
    "    ('Logistic', LogisticRegression(random_state=0)),\n",
    "    ('K_NN', KNeighborsClassifier(n_neighbors=5, metric='minkowski', p=2)),\n",
    "    ('Linear_SVM', SVC(kernel='linear', random_state=0)),\n",
    "    ('Kernel_SVM', SVC(kernel='rbf', random_state=4)),\n",
    "    ('Naive Bayes', GaussianNB()),\n",
    "    ('Decision Tree', DecisionTreeClassifier(criterion='entropy', random_state=0)),\n",
    "    ('Random Forest', RandomForestClassifier(\n",
    "        n_estimators=10, criterion='entropy', random_state=0))\n",
    "]\n",
    "\n",
    "accuracyRatios = []\n",
    "for name, classifier in classifiers:    \n",
    "  predicted = classifier.fit(X_train_scaled, y_train).predict(X_test_scaled)\n",
    "  accuracyRatios.append([name, accuracy_and_confusion(y_test, predicted)[1]])\n",
    "\n",
    "accuracyRatios = np.array(accuracyRatios)\n",
    "sorted_descending = accuracyRatios[accuracyRatios[:,1].argsort()[::-1]]\n",
    "print(sorted_descending)\n",
    "\n",
    "0"
   ]
  },
  {
   "cell_type": "code",
   "execution_count": 4,
   "metadata": {},
   "outputs": [
    {
     "name": "stdout",
     "output_type": "stream",
     "text": [
      "[[87  3]\n",
      " [ 2 45]]\n",
      "0.9635036496350365\n"
     ]
    },
    {
     "data": {
      "text/plain": [
       "0"
      ]
     },
     "execution_count": 4,
     "metadata": {},
     "output_type": "execute_result"
    }
   ],
   "source": [
    "from utils import accuracy_and_confusion\n",
    "\n",
    "ac = accuracy_and_confusion(y_test, predicted)\n",
    "\n",
    "0"
   ]
  },
  {
   "cell_type": "code",
   "execution_count": null,
   "metadata": {},
   "outputs": [],
   "source": []
  },
  {
   "cell_type": "code",
   "execution_count": null,
   "metadata": {},
   "outputs": [],
   "source": []
  }
 ],
 "metadata": {
  "kernelspec": {
   "display_name": "Python 3",
   "language": "python",
   "name": "python3"
  },
  "language_info": {
   "codemirror_mode": {
    "name": "ipython",
    "version": 3
   },
   "file_extension": ".py",
   "mimetype": "text/x-python",
   "name": "python",
   "nbconvert_exporter": "python",
   "pygments_lexer": "ipython3",
   "version": "3.9.6"
  },
  "orig_nbformat": 4,
  "vscode": {
   "interpreter": {
    "hash": "31f2aee4e71d21fbe5cf8b01ff0e069b9275f58929596ceb00d14d90e3e16cd6"
   }
  }
 },
 "nbformat": 4,
 "nbformat_minor": 2
}

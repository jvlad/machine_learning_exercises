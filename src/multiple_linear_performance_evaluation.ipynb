{
 "cells": [
  {
   "cell_type": "code",
   "execution_count": 2,
   "metadata": {},
   "outputs": [
    {
     "name": "stdout",
     "output_type": "stream",
     "text": [
      "         AT      V       AP     RH      PE\n",
      "0     14.96  41.76  1024.07  73.17  463.26\n",
      "1     25.18  62.96  1020.04  59.08  444.37\n",
      "2      5.11  39.40  1012.16  92.14  488.56\n",
      "3     20.86  57.32  1010.24  76.64  446.48\n",
      "4     10.82  37.50  1009.23  96.62  473.90\n",
      "...     ...    ...      ...    ...     ...\n",
      "9563  16.65  49.69  1014.01  91.00  460.03\n",
      "9564  13.19  39.18  1023.67  66.78  469.62\n",
      "9565  31.32  74.33  1012.92  36.48  429.57\n",
      "9566  24.48  69.45  1013.86  62.39  435.74\n",
      "9567  21.60  62.52  1017.23  67.87  453.28\n",
      "\n",
      "[9568 rows x 5 columns]\n",
      "done\n"
     ]
    }
   ],
   "source": [
    "import numpy as np\n",
    "import pandas as pd\n",
    "\n",
    "dataset = pd.read_csv('datasets/Data.csv')\n",
    "print(dataset)\n",
    "X = dataset.iloc[:, :-1]\n",
    "y = dataset.iloc[:, -1]\n",
    "\n",
    "print('done')"
   ]
  },
  {
   "cell_type": "code",
   "execution_count": 3,
   "metadata": {},
   "outputs": [
    {
     "name": "stdout",
     "output_type": "stream",
     "text": [
      "(array([], dtype=int64), array([], dtype=int64))\n",
      "done\n"
     ]
    }
   ],
   "source": [
    "# check for empty cells\n",
    "\n",
    "def get_empty_cells(df: pd.DataFrame) -> pd.DataFrame:\n",
    "  df2 = df.replace('', np.nan)\n",
    "  empty_cell_indices = np.where(df2.isna())\n",
    "  return empty_cell_indices\n",
    "\n",
    "# %timeit get_empty_cells(part)\n",
    "# %timeit np.where(part.apply(lambda x: x == ''))\n",
    "# empty_cells = get_empty_cells(X)\n",
    "print(get_empty_cells(X))\n",
    "\n",
    "print(\"done\")"
   ]
  },
  {
   "cell_type": "code",
   "execution_count": 4,
   "metadata": {},
   "outputs": [
    {
     "name": "stdout",
     "output_type": "stream",
     "text": [
      "         AT      V       AP     RH\n",
      "9061   6.61  38.91  1015.77  92.31\n",
      "6937  22.72  65.61  1014.64  70.53\n",
      "5631  10.06  39.61  1018.22  70.22\n",
      "6218  27.53  67.83  1009.40  53.73\n",
      "1362  23.89  48.41  1010.48  62.31\n",
      "...     ...    ...      ...    ...\n",
      "2895  26.92  62.44  1011.09  70.80\n",
      "7813  20.90  67.71  1007.16  59.02\n",
      "905   18.59  39.54  1008.56  68.61\n",
      "5192  22.96  45.01  1012.21  50.81\n",
      "235   20.50  49.69  1009.60  70.81\n",
      "\n",
      "[7654 rows x 4 columns]\n",
      "         AT      V       AP     RH\n",
      "5014  17.93  44.63  1003.54  87.41\n",
      "6947  16.34  42.28  1008.08  52.80\n",
      "9230  25.97  70.32  1007.48  57.01\n",
      "4290   6.77  38.18  1017.80  81.13\n",
      "6477   8.64  39.69  1001.57  98.27\n",
      "...     ...    ...      ...    ...\n",
      "2355  23.96  60.95  1015.01  65.24\n",
      "3382  25.34  49.50  1013.25  50.80\n",
      "2539  10.68  38.38  1020.79  72.33\n",
      "9477  34.03  73.56  1006.49  51.07\n",
      "9069  15.28  44.58  1016.45  83.07\n",
      "\n",
      "[1914 rows x 4 columns]\n",
      "done\n"
     ]
    }
   ],
   "source": [
    "from sklearn.model_selection import train_test_split\n",
    "\n",
    "x_train, x_test, y_train, y_test = train_test_split(\n",
    "    X, y, test_size=0.2, random_state=1)\n",
    "\n",
    "print(x_train)\n",
    "print(x_test)\n",
    "\n",
    "print(\"done\")"
   ]
  },
  {
   "cell_type": "code",
   "execution_count": 5,
   "metadata": {},
   "outputs": [
    {
     "name": "stdout",
     "output_type": "stream",
     "text": [
      "[[-1.75440309 -1.21216858  0.42112637  1.3027435 ]\n",
      " [ 0.41388954  0.88854693  0.23226259 -0.1942825 ]\n",
      " [-1.29005737 -1.15709364  0.83060976 -0.21559003]\n",
      " ...\n",
      " [-0.1419794  -1.16260113 -0.78392477 -0.32625174]\n",
      " [ 0.44619185 -0.73222983 -0.17387808 -1.54971652]\n",
      " [ 0.11509316 -0.36401453 -0.61010325 -0.17503699]]\n",
      "[[-0.23081075 -0.76212765 -1.62294789  0.96594702]\n",
      " [-0.44481356 -0.94702209 -0.86415009 -1.4129359 ]\n",
      " [ 0.85131667  1.25912259 -0.96443174 -1.12356586]\n",
      " ...\n",
      " [-1.20660974 -1.25386817  1.26014949 -0.07056134]\n",
      " [ 1.93613595  1.51404088 -1.12989646 -1.53184568]\n",
      " [-0.58748211 -0.76606158  0.5347789   0.66764156]]\n",
      "done\n"
     ]
    }
   ],
   "source": [
    "from sklearn.preprocessing import StandardScaler\n",
    "\n",
    "scalerX = StandardScaler()\n",
    "x_train_scaled = scalerX.fit_transform(x_train)\n",
    "print(x_train_scaled)\n",
    "\n",
    "x_test_scaled = scalerX.transform(x_test)\n",
    "print(x_test_scaled)\n",
    "\n",
    "print(\"done\")"
   ]
  },
  {
   "cell_type": "code",
   "execution_count": 10,
   "metadata": {},
   "outputs": [
    {
     "name": "stdout",
     "output_type": "stream",
     "text": [
      "done\n"
     ]
    },
    {
     "data": {
      "image/png": "[encoded data removed]",
      "text/plain": [
       "<Figure size 640x480 with 1 Axes>"
      ]
     },
     "metadata": {},
     "output_type": "display_data"
    }
   ],
   "source": [
    "from sklearn.linear_model import LinearRegression\n",
    "import matplotlib.pyplot as plot\n",
    "\n",
    "regressor = LinearRegression()\n",
    "regressor.fit(x_train_scaled, y_train)\n",
    "predicted1 = regressor.predict(x_test_scaled)\n",
    "\n",
    "x_ticks = range(0, x_test_scaled[:, 0].size)\n",
    "plot_limit = 100\n",
    "plot_start = 980\n",
    "plot_end = plot_start + plot_limit\n",
    "plot.scatter(x_ticks[plot_start:plot_end], y_test[plot_start:plot_end], color='blue')\n",
    "plot.scatter(x_ticks[plot_start:plot_end], predicted1[plot_start:plot_end], color='red')\n",
    "\n",
    "\n",
    "\n",
    "print(\"done\")"
   ]
  },
  {
   "cell_type": "code",
   "execution_count": 14,
   "metadata": {},
   "outputs": [
    {
     "name": "stdout",
     "output_type": "stream",
     "text": [
      "0.9321860060402447\n",
      "done\n"
     ]
    }
   ],
   "source": [
    "from sklearn.metrics import r2_score\n",
    "\n",
    "score1 = r2_score(y_test, predicted1)\n",
    "print(score1)\n",
    "\n",
    "print(\"done\")"
   ]
  },
  {
   "cell_type": "code",
   "execution_count": 21,
   "metadata": {},
   "outputs": [
    {
     "name": "stdout",
     "output_type": "stream",
     "text": [
      "0.9321860060402446\n",
      "done\n"
     ]
    }
   ],
   "source": [
    "scalerY = StandardScaler()\n",
    "y_train_scaled = scalerY.fit_transform(y_train.values.reshape(-1, 1))\n",
    "\n",
    "regressor_for_scaled_target = LinearRegression()\n",
    "regressor_for_scaled_target.fit(x_train_scaled, y_train_scaled)\n",
    "\n",
    "predicted2 = regressor_for_scaled_target.predict(x_test_scaled)\n",
    "predicted2_unscaled = scalerY.inverse_transform(predicted2)\n",
    "\n",
    "score2 = r2_score(y_test, predicted2_unscaled)\n",
    "print(score2)\n",
    "\n",
    "print(\"done\")"
   ]
  },
  {
   "cell_type": "code",
   "execution_count": null,
   "metadata": {},
   "outputs": [],
   "source": [
    "\n",
    "\n",
    "print(\"done\")"
   ]
  }
 ],
 "metadata": {
  "kernelspec": {
   "display_name": "Python 3",
   "language": "python",
   "name": "python3"
  },
  "language_info": {
   "codemirror_mode": {
    "name": "ipython",
    "version": 3
   },
   "file_extension": ".py",
   "mimetype": "text/x-python",
   "name": "python",
   "nbconvert_exporter": "python",
   "pygments_lexer": "ipython3",
   "version": "3.9.6"
  },
  "orig_nbformat": 4,
  "vscode": {
   "interpreter": {
    "hash": "31f2aee4e71d21fbe5cf8b01ff0e069b9275f58929596ceb00d14d90e3e16cd6"
   }
  }
 },
 "nbformat": 4,
 "nbformat_minor": 2
}

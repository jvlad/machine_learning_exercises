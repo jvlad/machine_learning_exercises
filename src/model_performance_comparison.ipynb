{
 "cells": [
  {
   "cell_type": "code",
   "execution_count": 30,
   "metadata": {},
   "outputs": [
    {
     "name": "stdout",
     "output_type": "stream",
     "text": [
      "         AT      V       AP     RH      PE\n",
      "0     14.96  41.76  1024.07  73.17  463.26\n",
      "1     25.18  62.96  1020.04  59.08  444.37\n",
      "2      5.11  39.40  1012.16  92.14  488.56\n",
      "3     20.86  57.32  1010.24  76.64  446.48\n",
      "4     10.82  37.50  1009.23  96.62  473.90\n",
      "...     ...    ...      ...    ...     ...\n",
      "9563  16.65  49.69  1014.01  91.00  460.03\n",
      "9564  13.19  39.18  1023.67  66.78  469.62\n",
      "9565  31.32  74.33  1012.92  36.48  429.57\n",
      "9566  24.48  69.45  1013.86  62.39  435.74\n",
      "9567  21.60  62.52  1017.23  67.87  453.28\n",
      "\n",
      "[9568 rows x 5 columns]\n",
      "done\n"
     ]
    }
   ],
   "source": [
    "import numpy as np\n",
    "import pandas as pd\n",
    "\n",
    "dataset = pd.read_csv('datasets/Data.csv')\n",
    "print(dataset)\n",
    "X = dataset.iloc[:, :-1]\n",
    "y = dataset.iloc[:, -1]\n",
    "\n",
    "print('done')"
   ]
  },
  {
   "cell_type": "code",
   "execution_count": 31,
   "metadata": {},
   "outputs": [
    {
     "name": "stdout",
     "output_type": "stream",
     "text": [
      "(array([], dtype=int64), array([], dtype=int64))\n",
      "(array([], dtype=int64),)\n"
     ]
    }
   ],
   "source": [
    "# check for empty cells\n",
    "\n",
    "def get_empty_cells(df: pd.DataFrame) -> pd.DataFrame:\n",
    "  df2 = df.replace('', np.nan)\n",
    "  empty_cell_indices = np.where(df2.isna())\n",
    "  return empty_cell_indices\n",
    "\n",
    "print(get_empty_cells(X))\n",
    "print(get_empty_cells(y))"
   ]
  },
  {
   "cell_type": "code",
   "execution_count": 32,
   "metadata": {},
   "outputs": [
    {
     "name": "stdout",
     "output_type": "stream",
     "text": [
      "done\n"
     ]
    }
   ],
   "source": [
    "from sklearn.model_selection import train_test_split\n",
    "from sklearn.preprocessing import StandardScaler\n",
    "\n",
    "X_train, X_test, y_train, y_test = train_test_split(\n",
    "    X, y, test_size=0.2, random_state=4)\n",
    "\n",
    "scalerX = StandardScaler()\n",
    "X_train_scaled = scalerX.fit_transform(X_train)\n",
    "X_test_scaled = scalerX.transform(X_test)\n",
    "\n",
    "print('done')"
   ]
  },
  {
   "cell_type": "code",
   "execution_count": 33,
   "metadata": {},
   "outputs": [
    {
     "name": "stdout",
     "output_type": "stream",
     "text": [
      "0.9245770872775977\n"
     ]
    }
   ],
   "source": [
    "# multiple linear regression\n",
    "from sklearn.linear_model import LinearRegression\n",
    "from sklearn.metrics import r2_score\n",
    "\n",
    "regressorMLR = LinearRegression()\n",
    "regressorMLR.fit(X_train_scaled, y_train)\n",
    "predictedMLR = regressorMLR.predict(X_test_scaled)\n",
    "scoreMLR = r2_score(y_test, predictedMLR)\n",
    "print(scoreMLR)"
   ]
  },
  {
   "cell_type": "code",
   "execution_count": 34,
   "metadata": {},
   "outputs": [
    {
     "name": "stdout",
     "output_type": "stream",
     "text": [
      "0.938037945656\n"
     ]
    }
   ],
   "source": [
    "# polynomial\n",
    "from sklearn.preprocessing import PolynomialFeatures\n",
    "\n",
    "polynomBuilder = PolynomialFeatures(degree=4)\n",
    "X_train_polynom = polynomBuilder.fit_transform(X_train_scaled)\n",
    "X_test_polynom = polynomBuilder.transform(X_test_scaled)\n",
    "\n",
    "regressorP = LinearRegression()\n",
    "regressorP.fit(X_train_polynom, y_train)\n",
    "predictedP = regressorP.predict(X_test_polynom)\n",
    "scoreP = r2_score(y_test, predictedP)\n",
    "print(scoreP)"
   ]
  },
  {
   "cell_type": "code",
   "execution_count": 36,
   "metadata": {},
   "outputs": [
    {
     "name": "stdout",
     "output_type": "stream",
     "text": [
      "0.9368471045505828\n"
     ]
    }
   ],
   "source": [
    "# svr\n",
    "from sklearn.svm import SVR\n",
    "\n",
    "regressorSVR = SVR(kernel='rbf')\n",
    "regressorSVR.fit(X_train_scaled, y_train)\n",
    "predictedP = regressorSVR.predict(X_test_scaled)\n",
    "scoreSVR = r2_score(y_test, predictedP)\n",
    "print(scoreSVR)\n"
   ]
  },
  {
   "cell_type": "code",
   "execution_count": 41,
   "metadata": {},
   "outputs": [
    {
     "name": "stdout",
     "output_type": "stream",
     "text": [
      "0.9322301214558856\n"
     ]
    }
   ],
   "source": [
    "# decision_tree\n",
    "from sklearn.tree import DecisionTreeRegressor\n",
    "\n",
    "regressorDT = DecisionTreeRegressor(random_state=4)\n",
    "regressorDT.fit(X_train_scaled, y_train)\n",
    "predictedDT = regressorDT.predict(X_test_scaled)\n",
    "scoreDT = r2_score(y_test, predictedDT)\n",
    "\n",
    "print(scoreDT)"
   ]
  },
  {
   "cell_type": "code",
   "execution_count": 43,
   "metadata": {},
   "outputs": [
    {
     "name": "stdout",
     "output_type": "stream",
     "text": [
      "0.9603546083386362\n"
     ]
    }
   ],
   "source": [
    "# random_forest\n",
    "from sklearn.ensemble import RandomForestRegressor\n",
    "\n",
    "regressorRF = RandomForestRegressor(n_estimators=100, random_state=0)\n",
    "regressorRF.fit(X_train_scaled, y_train)\n",
    "predictedRF = regressorRF.predict(X_test_scaled)\n",
    "scoreRF = r2_score(y_test, predictedRF)\n",
    "\n",
    "print(scoreRF)"
   ]
  },
  {
   "cell_type": "code",
   "execution_count": 74,
   "metadata": {},
   "outputs": [
    {
     "data": {
      "text/plain": [
       "<function matplotlib.pyplot.show(close=None, block=None)>"
      ]
     },
     "execution_count": 74,
     "metadata": {},
     "output_type": "execute_result"
    },
    {
     "data": {
      "image/png": "[encoded data removed]",
      "text/plain": [
       "<Figure size 640x480 with 1 Axes>"
      ]
     },
     "metadata": {},
     "output_type": "display_data"
    }
   ],
   "source": [
    "# visualize\n",
    "\n",
    "import matplotlib.pyplot as plt\n",
    "regression_types = [\"MLR\", \"Polynom\", \"SVR\", \"Desicion Tree\", \"Random Forest\"]\n",
    "r2_scores = [scoreMLR, scoreP, scoreSVR, scoreDT, scoreRF]\n",
    "_, ax = plt.subplots(layout='constrained')\n",
    "\n",
    "def color_with_max_highlithed(values: list[float]) -> list[str]:\n",
    "  max_value = max(values)\n",
    "  return ['green' if value == max_value else 'blue' for value in values]\n",
    "\n",
    "bars = ax.bar(regression_types, r2_scores, color=color_with_max_highlithed(r2_scores))\n",
    "ax.bar_label(bars, padding=5)\n",
    "ax.set_ylabel('R-squared')\n",
    "ax.set_title('Regression Model Performance')\n",
    "current_y_ticks = plt.gca().get_yticks()\n",
    "plt.yticks(current_y_ticks)\n",
    "plt.show"
   ]
  }
 ],
 "metadata": {
  "kernelspec": {
   "display_name": "Python 3",
   "language": "python",
   "name": "python3"
  },
  "language_info": {
   "codemirror_mode": {
    "name": "ipython",
    "version": 3
   },
   "file_extension": ".py",
   "mimetype": "text/x-python",
   "name": "python",
   "nbconvert_exporter": "python",
   "pygments_lexer": "ipython3",
   "version": "3.9.6"
  },
  "orig_nbformat": 4,
  "vscode": {
   "interpreter": {
    "hash": "31f2aee4e71d21fbe5cf8b01ff0e069b9275f58929596ceb00d14d90e3e16cd6"
   }
  }
 },
 "nbformat": 4,
 "nbformat_minor": 2
}

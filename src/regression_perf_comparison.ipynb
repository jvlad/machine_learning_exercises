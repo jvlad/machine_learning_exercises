{
 "cells": [
  {
   "cell_type": "code",
   "execution_count": 12,
   "metadata": {},
   "outputs": [
    {
     "name": "stdout",
     "output_type": "stream",
     "text": [
      "         AT      V       AP     RH      PE\n",
      "0     14.96  41.76  1024.07  73.17  463.26\n",
      "1     25.18  62.96  1020.04  59.08  444.37\n",
      "2      5.11  39.40  1012.16  92.14  488.56\n",
      "3     20.86  57.32  1010.24  76.64  446.48\n",
      "4     10.82  37.50  1009.23  96.62  473.90\n",
      "...     ...    ...      ...    ...     ...\n",
      "9563  16.65  49.69  1014.01  91.00  460.03\n",
      "9564  13.19  39.18  1023.67  66.78  469.62\n",
      "9565  31.32  74.33  1012.92  36.48  429.57\n",
      "9566  24.48  69.45  1013.86  62.39  435.74\n",
      "9567  21.60  62.52  1017.23  67.87  453.28\n",
      "\n",
      "[9568 rows x 5 columns]\n",
      "done\n"
     ]
    }
   ],
   "source": [
    "import numpy as np\n",
    "import pandas as pd\n",
    "\n",
    "dataset = pd.read_csv('datasets/Data.csv')\n",
    "print(dataset)\n",
    "X = dataset.iloc[:, :-1]\n",
    "y = dataset.iloc[:, -1]\n",
    "\n",
    "print('done')"
   ]
  },
  {
   "cell_type": "code",
   "execution_count": 36,
   "metadata": {},
   "outputs": [
    {
     "name": "stdout",
     "output_type": "stream",
     "text": [
      "                            OLS Regression Results                            \n",
      "==============================================================================\n",
      "Dep. Variable:                     PE   R-squared:                       0.929\n",
      "Model:                            OLS   Adj. R-squared:                  0.929\n",
      "Method:                 Least Squares   F-statistic:                 3.114e+04\n",
      "Date:                Fri, 17 Nov 2023   Prob (F-statistic):               0.00\n",
      "Time:                        17:00:57   Log-Likelihood:                -28088.\n",
      "No. Observations:                9568   AIC:                         5.619e+04\n",
      "Df Residuals:                    9563   BIC:                         5.622e+04\n",
      "Df Model:                           4                                         \n",
      "Covariance Type:            nonrobust                                         \n",
      "==============================================================================\n",
      "                 coef    std err          t      P>|t|      [0.025      0.975]\n",
      "------------------------------------------------------------------------------\n",
      "Intercept    454.6093      9.749     46.634      0.000     435.500     473.718\n",
      "AT            -1.9775      0.015   -129.342      0.000      -2.007      -1.948\n",
      "V             -0.2339      0.007    -32.122      0.000      -0.248      -0.220\n",
      "AP             0.0621      0.009      6.564      0.000       0.044       0.081\n",
      "RH            -0.1581      0.004    -37.918      0.000      -0.166      -0.150\n",
      "==============================================================================\n",
      "Omnibus:                      892.002   Durbin-Watson:                   2.033\n",
      "Prob(Omnibus):                  0.000   Jarque-Bera (JB):             4086.777\n",
      "Skew:                          -0.352   Prob(JB):                         0.00\n",
      "Kurtosis:                       6.123   Cond. No.                     2.13e+05\n",
      "==============================================================================\n",
      "\n",
      "Notes:\n",
      "[1] Standard Errors assume that the covariance matrix of the errors is correctly specified.\n",
      "[2] The condition number is large, 2.13e+05. This might indicate that there are\n",
      "strong multicollinearity or other numerical problems.\n",
      "                            OLS Regression Results                            \n",
      "==============================================================================\n",
      "Dep. Variable:                     PE   R-squared:                       0.899\n",
      "Model:                            OLS   Adj. R-squared:                  0.899\n",
      "Method:                 Least Squares   F-statistic:                 8.510e+04\n",
      "Date:                Fri, 17 Nov 2023   Prob (F-statistic):               0.00\n",
      "Time:                        17:00:57   Log-Likelihood:                -29756.\n",
      "No. Observations:                9568   AIC:                         5.952e+04\n",
      "Df Residuals:                    9566   BIC:                         5.953e+04\n",
      "Df Model:                           1                                         \n",
      "Covariance Type:            nonrobust                                         \n",
      "==============================================================================\n",
      "                 coef    std err          t      P>|t|      [0.025      0.975]\n",
      "------------------------------------------------------------------------------\n",
      "Intercept    497.0341      0.156   3177.280      0.000     496.727     497.341\n",
      "AT            -2.1713      0.007   -291.715      0.000      -2.186      -2.157\n",
      "==============================================================================\n",
      "Omnibus:                      417.457   Durbin-Watson:                   2.033\n",
      "Prob(Omnibus):                  0.000   Jarque-Bera (JB):             1117.844\n",
      "Skew:                          -0.209   Prob(JB):                    1.83e-243\n",
      "Kurtosis:                       4.621   Cond. No.                         59.4\n",
      "==============================================================================\n",
      "\n",
      "Notes:\n",
      "[1] Standard Errors assume that the covariance matrix of the errors is correctly specified.\n"
     ]
    }
   ],
   "source": [
    "import statsmodels.formula.api as sm\n",
    "\n",
    "model = sm.ols(formula='PE ~ AT+V+AP+RH', data=dataset).fit()\n",
    "model2 = sm.ols(formula='PE ~ AT', data=dataset).fit()\n",
    "print(model.summary())\n",
    "print(model2.summary())"
   ]
  },
  {
   "cell_type": "code",
   "execution_count": 13,
   "metadata": {},
   "outputs": [
    {
     "name": "stdout",
     "output_type": "stream",
     "text": [
      "(array([], dtype=int64), array([], dtype=int64))\n",
      "(array([], dtype=int64),)\n"
     ]
    }
   ],
   "source": [
    "# check for empty cells\n",
    "\n",
    "def get_empty_cells(df: pd.DataFrame) -> pd.DataFrame:\n",
    "  df2 = df.replace('', np.nan)\n",
    "  empty_cell_indices = np.where(df2.isna())\n",
    "  return empty_cell_indices\n",
    "\n",
    "print(get_empty_cells(X))\n",
    "print(get_empty_cells(y))"
   ]
  },
  {
   "cell_type": "code",
   "execution_count": 14,
   "metadata": {},
   "outputs": [
    {
     "name": "stdout",
     "output_type": "stream",
     "text": [
      "done\n"
     ]
    }
   ],
   "source": [
    "from sklearn.model_selection import train_test_split\n",
    "from sklearn.preprocessing import StandardScaler\n",
    "\n",
    "X_train, X_test, y_train, y_test = train_test_split(\n",
    "    X, y, test_size=0.2, random_state=4)\n",
    "\n",
    "scalerX = StandardScaler()\n",
    "X_train_scaled = scalerX.fit_transform(X_train)\n",
    "X_test_scaled = scalerX.transform(X_test)\n",
    "\n",
    "print('done')"
   ]
  },
  {
   "cell_type": "code",
   "execution_count": 15,
   "metadata": {},
   "outputs": [
    {
     "name": "stdout",
     "output_type": "stream",
     "text": [
      "0.9245770872775977\n"
     ]
    }
   ],
   "source": [
    "# multiple linear regression\n",
    "from sklearn.linear_model import LinearRegression\n",
    "from sklearn.metrics import r2_score\n",
    "from utils import adjusted_r_squared\n",
    "\n",
    "regressorMLR = LinearRegression()\n",
    "regressorMLR.fit(X_train_scaled, y_train)\n",
    "predictedMLR = regressorMLR.predict(X_test_scaled)\n",
    "scoreMLR = r2_score(y_test, predictedMLR)\n",
    "adjusted_scoreMLR = adjusted_r_squared(scoreMLR, X_train_scaled)\n",
    "print(scoreMLR)"
   ]
  },
  {
   "cell_type": "code",
   "execution_count": 16,
   "metadata": {},
   "outputs": [
    {
     "name": "stdout",
     "output_type": "stream",
     "text": [
      "0.9374659630891953\n"
     ]
    }
   ],
   "source": [
    "# polynomial\n",
    "from sklearn.preprocessing import PolynomialFeatures\n",
    "\n",
    "polynomBuilder = PolynomialFeatures(degree=4)\n",
    "X_train_polynom = polynomBuilder.fit_transform(X_train_scaled)\n",
    "X_test_polynom = polynomBuilder.transform(X_test_scaled)\n",
    "\n",
    "regressorP = LinearRegression()\n",
    "regressorP.fit(X_train_polynom, y_train)\n",
    "predictedP = regressorP.predict(X_test_polynom)\n",
    "scoreP = r2_score(y_test, predictedP)\n",
    "adjusted_scoreP = adjusted_r_squared(scoreP, X_train_polynom)\n",
    "print(adjusted_scoreP)"
   ]
  },
  {
   "cell_type": "code",
   "execution_count": 17,
   "metadata": {},
   "outputs": [
    {
     "name": "stdout",
     "output_type": "stream",
     "text": [
      "0.9368471045505828\n"
     ]
    }
   ],
   "source": [
    "# svr\n",
    "from sklearn.svm import SVR\n",
    "\n",
    "regressorSVR = SVR(kernel='rbf')\n",
    "regressorSVR.fit(X_train_scaled, y_train)\n",
    "predictedP = regressorSVR.predict(X_test_scaled)\n",
    "scoreSVR = r2_score(y_test, predictedP)\n",
    "adjusted_scoreSVR = adjusted_r_squared(scoreSVR, X_train_scaled)\n",
    "print(scoreSVR)\n"
   ]
  },
  {
   "cell_type": "code",
   "execution_count": 18,
   "metadata": {},
   "outputs": [
    {
     "name": "stdout",
     "output_type": "stream",
     "text": [
      "0.9322301214558856\n"
     ]
    }
   ],
   "source": [
    "# decision_tree\n",
    "from sklearn.tree import DecisionTreeRegressor\n",
    "\n",
    "regressorDT = DecisionTreeRegressor(random_state=4)\n",
    "regressorDT.fit(X_train_scaled, y_train)\n",
    "predictedDT = regressorDT.predict(X_test_scaled)\n",
    "scoreDT = r2_score(y_test, predictedDT)\n",
    "adjusted_scoreDT = adjusted_r_squared(scoreDT, X_train_scaled)\n",
    "print(scoreDT)"
   ]
  },
  {
   "cell_type": "code",
   "execution_count": 19,
   "metadata": {},
   "outputs": [
    {
     "name": "stdout",
     "output_type": "stream",
     "text": [
      "0.9603546083386362\n"
     ]
    }
   ],
   "source": [
    "# random_forest\n",
    "from sklearn.ensemble import RandomForestRegressor\n",
    "\n",
    "regressorRF = RandomForestRegressor(n_estimators=100, random_state=0)\n",
    "regressorRF.fit(X_train_scaled, y_train)\n",
    "predictedRF = regressorRF.predict(X_test_scaled)\n",
    "scoreRF = r2_score(y_test, predictedRF)\n",
    "adjusted_scoreRF = adjusted_r_squared(scoreRF, X_train_scaled)\n",
    "\n",
    "print(scoreRF)"
   ]
  },
  {
   "cell_type": "code",
   "execution_count": 20,
   "metadata": {},
   "outputs": [
    {
     "data": {
      "text/plain": [
       "<function matplotlib.pyplot.show(close=None, block=None)>"
      ]
     },
     "execution_count": 20,
     "metadata": {},
     "output_type": "execute_result"
    },
    {
     "data": {
      "image/png": "[encoded data removed]",
      "text/plain": [
       "<Figure size 640x480 with 1 Axes>"
      ]
     },
     "metadata": {},
     "output_type": "display_data"
    }
   ],
   "source": [
    "# visualize\n",
    "\n",
    "import matplotlib.pyplot as plt\n",
    "regression_types = [\"MLR\", \"Polynom\", \"SVR\", \"Desicion Tree\", \"Random Forest\"]\n",
    "adjusted_r2_scores = [scoreMLR, scoreP, scoreSVR, scoreDT, scoreRF]\n",
    "_, ax = plt.subplots(layout='constrained')\n",
    "\n",
    "def color_with_max_highlithed(values: list[float]) -> list[str]:\n",
    "  max_value = max(values)\n",
    "  return ['green' if value == max_value else 'blue' for value in values]\n",
    "\n",
    "bars = ax.bar(regression_types, adjusted_r2_scores, color=color_with_max_highlithed(adjusted_r2_scores))\n",
    "ax.bar_label(bars, padding=5)\n",
    "ax.set_ylabel('R-squared')\n",
    "ax.set_title('Regression Model Performance')\n",
    "current_y_ticks = plt.gca().get_yticks()\n",
    "plt.yticks(current_y_ticks)\n",
    "plt.show"
   ]
  },
  {
   "cell_type": "code",
   "execution_count": 21,
   "metadata": {},
   "outputs": [
    {
     "data": {
      "text/plain": [
       "<function matplotlib.pyplot.show(close=None, block=None)>"
      ]
     },
     "execution_count": 21,
     "metadata": {},
     "output_type": "execute_result"
    },
    {
     "data": {
      "image/png": "[encoded data removed]",
      "text/plain": [
       "<Figure size 640x480 with 1 Axes>"
      ]
     },
     "metadata": {},
     "output_type": "display_data"
    }
   ],
   "source": [
    "# visualize\n",
    "\n",
    "import matplotlib.pyplot as plt\n",
    "regression_types = [\"MLR\", \"Polynom\", \"SVR\", \"Desicion Tree\", \"Random Forest\"]\n",
    "adjusted_r2_scores = [adjusted_scoreMLR, adjusted_scoreP, adjusted_scoreSVR, adjusted_scoreDT, adjusted_scoreRF]\n",
    "_, ax = plt.subplots(layout='constrained')\n",
    "\n",
    "def color_with_max_highlithed(values: list[float]) -> list[str]:\n",
    "  max_value = max(values)\n",
    "  return ['green' if value == max_value else 'blue' for value in values]\n",
    "\n",
    "bars = ax.bar(regression_types, adjusted_r2_scores, color=color_with_max_highlithed(adjusted_r2_scores))\n",
    "ax.bar_label(bars, padding=5)\n",
    "ax.set_ylabel('R-squared')\n",
    "ax.set_title('Regression Model Performance')\n",
    "current_y_ticks = plt.gca().get_yticks()\n",
    "plt.yticks(current_y_ticks)\n",
    "plt.show"
   ]
  }
 ],
 "metadata": {
  "kernelspec": {
   "display_name": "Python 3",
   "language": "python",
   "name": "python3"
  },
  "language_info": {
   "codemirror_mode": {
    "name": "ipython",
    "version": 3
   },
   "file_extension": ".py",
   "mimetype": "text/x-python",
   "name": "python",
   "nbconvert_exporter": "python",
   "pygments_lexer": "ipython3",
   "version": "3.9.6"
  },
  "orig_nbformat": 4,
  "vscode": {
   "interpreter": {
    "hash": "31f2aee4e71d21fbe5cf8b01ff0e069b9275f58929596ceb00d14d90e3e16cd6"
   }
  }
 },
 "nbformat": 4,
 "nbformat_minor": 2
}
